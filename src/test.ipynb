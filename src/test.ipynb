{
 "cells": [
  {
   "cell_type": "code",
   "execution_count": 4,
   "metadata": {},
   "outputs": [],
   "source": [
    "import json\n",
    "with open(r'content_type.json', 'r') as file:\n",
    "    file_data = file.read()\n",
    "    content_type_dict = json.loads(file_data)"
   ]
  },
  {
   "cell_type": "code",
   "execution_count": 6,
   "metadata": {},
   "outputs": [
    {
     "data": {
      "text/plain": [
       "{'file_content_type': {'pdf': 'application/pdf',\n",
       "  'gz': 'application/gzip',\n",
       "  'zip': ['application/zip', 'application/x-zip-compressed'],\n",
       "  'xlsx': 'application/vnd.openxmlformats-officedocument.spreadsheetml.sheet',\n",
       "  'xls': 'application/vnd.ms-excel',\n",
       "  'tif': 'image/tiff',\n",
       "  'json': 'application/json',\n",
       "  'csv': 'test/csv',\n",
       "  'txt': 'text/plain',\n",
       "  'xml': ['application/xml', 'text/xml', 'application/atom+xml']}}"
      ]
     },
     "execution_count": 6,
     "metadata": {},
     "output_type": "execute_result"
    }
   ],
   "source": [
    "content_type_dict"
   ]
  },
  {
   "cell_type": "code",
   "execution_count": 8,
   "metadata": {},
   "outputs": [],
   "source": [
    "import requests"
   ]
  },
  {
   "cell_type": "code",
   "execution_count": 15,
   "metadata": {},
   "outputs": [],
   "source": [
    "resp = requests.get(r'https://www.w3docs.com/snippets/html/how-to-embed-pdf-in-html.html')"
   ]
  },
  {
   "cell_type": "code",
   "execution_count": 16,
   "metadata": {},
   "outputs": [
    {
     "data": {
      "text/plain": [
       "{'Date': 'Sun, 25 Dec 2022 14:08:50 GMT', 'Content-Type': 'text/html; charset=UTF-8', 'Transfer-Encoding': 'chunked', 'Connection': 'keep-alive', 'Cache-Control': 'public, max-age=2678400, s-maxage=31536000', 'vary': 'Origin, Accept-Encoding', 'link': '<https://www.w3docs.com/api/docs.jsonld>; rel=\"http://www.w3.org/ns/hydra/core#apiDocumentation\"', 'x-content-digest': 'enfa26e8bf1876f98dd0d4a1d432771a41', 'Age': '873026', 'CF-Cache-Status': 'HIT', 'Last-Modified': 'Thu, 15 Dec 2022 11:38:24 GMT', 'Report-To': '{\"endpoints\":[{\"url\":\"https:\\\\/\\\\/a.nel.cloudflare.com\\\\/report\\\\/v3?s=63AOYZWCU8k%2FgDyIiKClt1Eh58q8eDBDKNkZFl4n3OoC5Sa7gZAiSkfFoaqxEqMPzSFDsK1vbyBTKtznP0RUw9skqCbWjf3g9k3ZXIw2cI1j2kKgCKj8Cadqwe8%2FmYii\"}],\"group\":\"cf-nel\",\"max_age\":604800}', 'NEL': '{\"success_fraction\":0,\"report_to\":\"cf-nel\",\"max_age\":604800}', 'Server': 'cloudflare', 'CF-RAY': '77f226ab1e7885d6-BOM', 'Content-Encoding': 'gzip', 'alt-svc': 'h3=\":443\"; ma=86400, h3-29=\":443\"; ma=86400'}"
      ]
     },
     "execution_count": 16,
     "metadata": {},
     "output_type": "execute_result"
    }
   ],
   "source": [
    "resp.headers"
   ]
  }
 ],
 "metadata": {
  "kernelspec": {
   "display_name": "Python 3.10.6 64-bit",
   "language": "python",
   "name": "python3"
  },
  "language_info": {
   "codemirror_mode": {
    "name": "ipython",
    "version": 3
   },
   "file_extension": ".py",
   "mimetype": "text/x-python",
   "name": "python",
   "nbconvert_exporter": "python",
   "pygments_lexer": "ipython3",
   "version": "3.10.6"
  },
  "orig_nbformat": 4,
  "vscode": {
   "interpreter": {
    "hash": "916dbcbb3f70747c44a77c7bcd40155683ae19c65e1c03b4aa3499c5328201f1"
   }
  }
 },
 "nbformat": 4,
 "nbformat_minor": 2
}
